{
 "cells": [
  {
   "cell_type": "markdown",
   "metadata": {},
   "source": [
    "# Import"
   ]
  },
  {
   "cell_type": "code",
   "execution_count": 21,
   "metadata": {},
   "outputs": [],
   "source": [
    "import pandas as pd\n",
    "import numpy as np\n",
    "import matplotlib.pyplot as plt\n",
    "import seaborn as sns\n",
    "from ast import literal_eval\n",
    "import spacy\n",
    "import re\n"
   ]
  },
  {
   "cell_type": "markdown",
   "metadata": {},
   "source": [
    "# Setup"
   ]
  },
  {
   "cell_type": "code",
   "execution_count": 22,
   "metadata": {},
   "outputs": [],
   "source": [
    "# Set seeds\n",
    "np.random.seed(42)"
   ]
  },
  {
   "cell_type": "markdown",
   "metadata": {},
   "source": [
    "# Read data"
   ]
  },
  {
   "cell_type": "code",
   "execution_count": 23,
   "metadata": {},
   "outputs": [],
   "source": [
    "df_train = pd.read_csv(\"rct_oncology_train.csv\", converters={\"accept\": literal_eval})\n",
    "df_test = pd.read_csv(\"rct_oncology_test.csv\", converters={\"accept\": literal_eval})"
   ]
  },
  {
   "cell_type": "code",
   "execution_count": 24,
   "metadata": {},
   "outputs": [],
   "source": [
    "# Create dummy variables from accept column\n",
    "df_train = df_train.join(pd.get_dummies(df_train[\"accept\"].explode()).groupby(level=0).sum())\n",
    "df_test = df_test.join(pd.get_dummies(df_test[\"accept\"].explode()).groupby(level=0).sum())\n"
   ]
  },
  {
   "cell_type": "markdown",
   "metadata": {},
   "source": [
    "# Dataset characteristics"
   ]
  },
  {
   "cell_type": "code",
   "execution_count": 42,
   "metadata": {},
   "outputs": [
    {
     "data": {
      "image/png": "[encoded data removed]",
      "text/plain": [
       "<Figure size 500x500 with 1 Axes>"
      ]
     },
     "metadata": {},
     "output_type": "display_data"
    }
   ],
   "source": [
    "# Visualize the distribution of ONCOLOGY and RCT in the training set\n",
    "fig = plt.figure(figsize=(5, 5))\n",
    "train_cross_tab = pd.crosstab(df_train[\"RCT\"], df_train[\"ONCOLOGY\"])\n",
    "\n",
    "sns.heatmap(train_cross_tab, annot=True, cmap=\"Blues\", fmt=\"d\")\n",
    "plt.xlabel(\"Oncology publications\")\n",
    "plt.ylabel(\"RCT publications\")\n",
    "plt.xticks([0.5, 1.5], [\"No\", \"Yes\"])\n",
    "plt.yticks([0.5, 1.5], [\"No\", \"Yes\"])\n",
    "# Remove the colorbar but keep the width of the heatmap\n",
    "plt.gca().collections[0].colorbar.remove()\n",
    "plt.show()\n",
    "fig.savefig(\"plots/training_characteristics.png\", dpi=300, bbox_inches=\"tight\")"
   ]
  },
  {
   "cell_type": "code",
   "execution_count": 43,
   "metadata": {},
   "outputs": [
    {
     "name": "stdout",
     "output_type": "stream",
     "text": [
      "Percentage of publications that were oncology rcts: 9.76%\n",
      "Percentage of  publications that covered oncology topics but were no rcts: 17.77%\n",
      "Percentage of publications that were rcts but did not cover oncology topics: 33.67%\n",
      "Percentage of publications that were neither rcts nor oncology focused: 38.80%\n",
      "Percentage of publications that covered oncology topics: 27.53%\n",
      "Percentage of publications that were rcts: 43.43%\n"
     ]
    }
   ],
   "source": [
    "# Calculate percentages of respective fields in the training set\n",
    "\n",
    "oncology_and_rct_train = 100 * train_cross_tab.loc[1, 1] / df_train.shape[0]\n",
    "oncology_not_rct_train = 100 * train_cross_tab.loc[0, 1] / df_train.shape[0]\n",
    "rct_not_oncology_train = 100 * train_cross_tab.loc[1, 0] / df_train.shape[0]\n",
    "neither_train = 100 * train_cross_tab.loc[0, 0] / df_train.shape[0]\n",
    "oncology_train = 100 * (oncology_and_rct_train + oncology_not_rct_train) / 100\n",
    "rct_train = 100 * (oncology_and_rct_train + rct_not_oncology_train) / 100\n",
    "\n",
    "print(\n",
    "    f\"Percentage of publications that were oncology rcts: {oncology_and_rct_train:.2f}%\"\n",
    ")\n",
    "print(f\"Percentage of  publications that covered oncology topics but were no rcts: {oncology_not_rct_train:.2f}%\")\n",
    "print(f\"Percentage of publications that were rcts but did not cover oncology topics: {rct_not_oncology_train:.2f}%\")\n",
    "print(f\"Percentage of publications that were neither rcts nor oncology focused: {neither_train:.2f}%\")\n",
    "print(f\"Percentage of publications that covered oncology topics: {oncology_train:.2f}%\")\n",
    "print(f\"Percentage of publications that were rcts: {rct_train:.2f}%\")"
   ]
  },
  {
   "cell_type": "code",
   "execution_count": 47,
   "metadata": {},
   "outputs": [
    {
     "data": {
      "image/png": "[encoded data removed]",
      "text/plain": [
       "<Figure size 500x500 with 1 Axes>"
      ]
     },
     "metadata": {},
     "output_type": "display_data"
    }
   ],
   "source": [
    "# Visualize the distribution of LOCAL and METASTATIC in the test set\n",
    "fig = plt.figure(figsize=(5, 5))\n",
    "test_cross_tab = pd.crosstab(df_test[\"RCT\"], df_test[\"ONCOLOGY\"])\n",
    "sns.heatmap(test_cross_tab, annot=True, cmap=\"Blues\", fmt=\"d\")\n",
    "plt.xlabel(\"Oncology publications\")\n",
    "plt.ylabel(\"RCT publications\")\n",
    "plt.xticks([0.5, 1.5], [\"No\", \"Yes\"])\n",
    "plt.yticks([0.5, 1.5], [\"No\", \"Yes\"])\n",
    "# Remove the colorbar but keep the width of the heatmap\n",
    "plt.gca().collections[0].colorbar.remove()\n",
    "plt.show()\n",
    "fig.savefig(\"plots/test_characteristics.png\", dpi=300, bbox_inches=\"tight\")"
   ]
  },
  {
   "cell_type": "code",
   "execution_count": 48,
   "metadata": {},
   "outputs": [
    {
     "name": "stdout",
     "output_type": "stream",
     "text": [
      "Percentage of publications that were oncology rcts: 14.00%\n",
      "Percentage of  publications that covered oncology topics but were no rcts: 8.00%\n",
      "Percentage of publications that were rcts but did not cover oncology topics: 60.00%\n",
      "Percentage of publications that were neither rcts nor oncology focused: 18.00%\n",
      "Percentage of publications that covered oncology topics: 22.00%\n",
      "Percentage of publications that were rcts: 74.00%\n"
     ]
    }
   ],
   "source": [
    "# Calculate percentages of respective fields in the test set\n",
    "\n",
    "oncology_and_rct_test = 100 * test_cross_tab.loc[1, 1] / df_test.shape[0]\n",
    "oncology_not_rct_test = 100 * test_cross_tab.loc[0, 1] / df_test.shape[0]\n",
    "rct_not_oncology_test = 100 * test_cross_tab.loc[1, 0] / df_test.shape[0]\n",
    "neither_test = 100 * test_cross_tab.loc[0, 0] / df_test.shape[0]\n",
    "oncology_test = 100 * (oncology_and_rct_test + oncology_not_rct_test) / 100\n",
    "rct_test = 100 * (oncology_and_rct_test + rct_not_oncology_test) / 100\n",
    "\n",
    "print(\n",
    "    f\"Percentage of publications that were oncology rcts: {oncology_and_rct_test:.2f}%\"\n",
    ")\n",
    "print(f\"Percentage of  publications that covered oncology topics but were no rcts: {oncology_not_rct_test:.2f}%\")\n",
    "print(f\"Percentage of publications that were rcts but did not cover oncology topics: {rct_not_oncology_test:.2f}%\")\n",
    "print(f\"Percentage of publications that were neither rcts nor oncology focused: {neither_test:.2f}%\")\n",
    "print(f\"Percentage of publications that covered oncology topics: {oncology_test:.2f}%\")\n",
    "print(f\"Percentage of publications that were rcts: {rct_test:.2f}%\")\n",
    "\n"
   ]
  },
  {
   "cell_type": "markdown",
   "metadata": {},
   "source": [
    "# Testing"
   ]
  },
  {
   "cell_type": "markdown",
   "metadata": {},
   "source": [
    "## Make ML predictions"
   ]
  },
  {
   "cell_type": "code",
   "execution_count": 26,
   "metadata": {},
   "outputs": [],
   "source": [
    "# Load model\n",
    "rct_oncology_model = spacy.load(\"./rct_oncology_publication_v2/model-best\")"
   ]
  },
  {
   "cell_type": "code",
   "execution_count": 27,
   "metadata": {},
   "outputs": [],
   "source": [
    "# Predict on the test set\n",
    "def predict(text):\n",
    "    prediction = rct_oncology_model(text)\n",
    "    return prediction.cats\n",
    "\n",
    "df_test[\"ML_prediction\"] = df_test[\"text\"].apply(predict)\n",
    "\n",
    "# Create columns from the prediction dictionary\n",
    "df_test[\"RCT_PREDICTED_ML\"] = df_test[\"ML_prediction\"].apply(\n",
    "    lambda x: 1 if x[\"RCT\"] > 0.5 else 0\n",
    ")\n",
    "df_test[\"ONCOLOGY_PREDICTED_ML\"] = df_test[\"ML_prediction\"].apply(\n",
    "    lambda x: 1 if x[\"ONCOLOGY\"] > 0.5 else 0\n",
    ")"
   ]
  },
  {
   "cell_type": "markdown",
   "metadata": {},
   "source": [
    "## Evaluate performance"
   ]
  },
  {
   "cell_type": "markdown",
   "metadata": {},
   "source": [
    "ML predictions"
   ]
  },
  {
   "cell_type": "code",
   "execution_count": 28,
   "metadata": {},
   "outputs": [
    {
     "data": {
      "image/png": "[encoded data removed]",
      "text/plain": [
       "<Figure size 500x500 with 1 Axes>"
      ]
     },
     "metadata": {},
     "output_type": "display_data"
    }
   ],
   "source": [
    "# Create confusion matrix of predicted and actual values for LOCAL\n",
    "confusion_matrix = pd.crosstab(df_test[\"ONCOLOGY\"], df_test[\"ONCOLOGY_PREDICTED_ML\"])\n",
    "\n",
    "# Plot the confusion matrix\n",
    "fig = plt.figure(figsize=(5, 5))\n",
    "sns.heatmap(confusion_matrix, annot=True, cmap=\"Blues\", fmt=\"d\")\n",
    "plt.xlabel(\"Predicted oncology paper\")\n",
    "plt.ylabel(\"Actual oncology paper\")\n",
    "plt.xticks([0.5, 1.5], [\"No\", \"Yes\"])\n",
    "plt.yticks([0.5, 1.5], [\"No\", \"Yes\"])\n",
    "# Remove the colorbar but keep the width of the heatmap\n",
    "plt.gca().collections[0].colorbar.remove()\n",
    "plt.show()\n",
    "# fig.savefig(\"plots/confusion_matrix_local_ML.png\", dpi=300, bbox_inches=\"tight\")"
   ]
  },
  {
   "cell_type": "code",
   "execution_count": 31,
   "metadata": {},
   "outputs": [
    {
     "name": "stdout",
     "output_type": "stream",
     "text": [
      "Accuracy of ML prediction for ONCOLOGY: 0.92 (95% CI: 0.87 - 0.97)\n",
      "Precision of ML prediction for ONCOLOGY: 0.75 (95% CI: 0.59 - 0.91)\n",
      "Recall of ML prediction for ONCOLOGY: 0.95 (95% CI: 0.87 - 1.04)\n",
      "F1 score of ML prediction for ONCOLOGY: 0.84 (95% CI: 0.77 - 0.91)\n"
     ]
    }
   ],
   "source": [
    "# Calculate the accuracy of the ML prediction for ONCOLOGY\n",
    "accuracy_oncology_ML = (\n",
    "    np.sum(df_test[\"ONCOLOGY\"] == df_test[\"ONCOLOGY_PREDICTED_ML\"])\n",
    "    / df_test.shape[0]\n",
    ")\n",
    "\n",
    "# Estimate the 95 % confidence interval for the accuracy\n",
    "accuracy_oncology_ML_std = np.sqrt(\n",
    "    accuracy_oncology_ML * (1 - accuracy_oncology_ML) / df_test.shape[0]\n",
    ")\n",
    "accuracy_oncology_ML_CI = 1.96 * accuracy_oncology_ML_std\n",
    "print(\n",
    "    f\"Accuracy of ML prediction for ONCOLOGY: {accuracy_oncology_ML:.2f} (95% CI: {accuracy_oncology_ML - accuracy_oncology_ML_CI:.2f} - {accuracy_oncology_ML + accuracy_oncology_ML_CI:.2f})\"\n",
    ")\n",
    "\n",
    "# Calculate the precision of the ML prediction for ONCOLOGY\n",
    "precision_oncology_ml = (\n",
    "    np.sum(\n",
    "        (df_test[\"ONCOLOGY\"] == 1) & (df_test[\"ONCOLOGY_PREDICTED_ML\"] == 1)\n",
    "    )\n",
    "    / np.sum(df_test[\"ONCOLOGY_PREDICTED_ML\"] == 1)\n",
    ")\n",
    "\n",
    "# Estimate the 95 % confidence interval for the precision\n",
    "precision_oncology_ml_std = np.sqrt(\n",
    "    precision_oncology_ml * (1 - precision_oncology_ml) / np.sum(df_test[\"ONCOLOGY_PREDICTED_ML\"] == 1)\n",
    ")\n",
    "precision_local_ml_CI = 1.96 * precision_oncology_ml_std\n",
    "print(f\"Precision of ML prediction for ONCOLOGY: {precision_oncology_ml:.2f} (95% CI: {precision_oncology_ml - precision_local_ml_CI:.2f} - {precision_oncology_ml + precision_local_ml_CI:.2f})\")\n",
    "\n",
    "# Calculate the recall of the ML prediction for ONCOLOGY\n",
    "recall_oncology_ml = (\n",
    "    np.sum(\n",
    "        (df_test[\"ONCOLOGY\"] == 1) & (df_test[\"ONCOLOGY_PREDICTED_ML\"] == 1)\n",
    "    )\n",
    "    / np.sum(df_test[\"ONCOLOGY\"] == 1)\n",
    ")\n",
    "\n",
    "# Estimate the 95 % confidence interval for the recall\n",
    "recall_oncology_ml_std = np.sqrt(\n",
    "    recall_oncology_ml * (1 - recall_oncology_ml) / np.sum(df_test[\"ONCOLOGY\"] == 1)\n",
    ")\n",
    "recall_local_ml_CI = 1.96 * recall_oncology_ml_std\n",
    "print(\n",
    "    f\"Recall of ML prediction for ONCOLOGY: {recall_oncology_ml:.2f} (95% CI: {recall_oncology_ml - recall_local_ml_CI:.2f} - {recall_oncology_ml + recall_local_ml_CI:.2f})\"\n",
    ")\n",
    "\n",
    "# Calculate the F1 score of the ML prediction for ONCOLOGY\n",
    "f1_oncology_ml = 2 * precision_oncology_ml * recall_oncology_ml / (precision_oncology_ml + recall_oncology_ml)\n",
    "\n",
    "# Estimate the 95 % confidence interval for the F1 score\n",
    "f1_oncology_ml_std = np.sqrt(\n",
    "    f1_oncology_ml * (1 - f1_oncology_ml) / df_test.shape[0]\n",
    ")\n",
    "f1_oncology_ml_CI = 1.96 * f1_oncology_ml_std\n",
    "print(f\"F1 score of ML prediction for ONCOLOGY: {f1_oncology_ml:.2f} (95% CI: {f1_oncology_ml - f1_oncology_ml_CI:.2f} - {f1_oncology_ml + f1_oncology_ml_CI:.2f})\")\n",
    "\n"
   ]
  },
  {
   "cell_type": "code",
   "execution_count": 30,
   "metadata": {},
   "outputs": [
    {
     "data": {
      "image/png": "[encoded data removed]",
      "text/plain": [
       "<Figure size 500x500 with 1 Axes>"
      ]
     },
     "metadata": {},
     "output_type": "display_data"
    }
   ],
   "source": [
    "# Create confusion matrix of predicted and actual values for METASTATIC\n",
    "confusion_matrix = pd.crosstab(df_test[\"RCT\"], df_test[\"RCT_PREDICTED_ML\"])\n",
    "\n",
    "# Plot the confusion matrix\n",
    "fig = plt.figure(figsize=(5, 5))\n",
    "sns.heatmap(confusion_matrix, annot=True, cmap=\"Blues\", fmt=\"d\")\n",
    "plt.xlabel(\"Predicted RCT\")\n",
    "plt.ylabel(\"Actual RCT\")\n",
    "plt.xticks([0.5, 1.5], [\"No\", \"Yes\"])\n",
    "plt.yticks([0.5, 1.5], [\"No\", \"Yes\"])\n",
    "# Remove the colorbar but keep the width of the heatmap\n",
    "plt.gca().collections[0].colorbar.remove()\n",
    "plt.show()\n",
    "# fig.savefig(\"plots/confusion_matrix_metastatic_ML.png\", dpi=300, bbox_inches=\"tight\")"
   ]
  },
  {
   "cell_type": "code",
   "execution_count": 32,
   "metadata": {},
   "outputs": [
    {
     "name": "stdout",
     "output_type": "stream",
     "text": [
      "Accuracy of ML prediction for RCT: 0.94 (95% CI: 0.89 - 0.99)\n",
      "Precision of ML prediction for RCT: 1.00 (95% CI: 1.00 - 1.00)\n",
      "Recall of ML prediction for RCT: 0.92 (95% CI: 0.86 - 0.98)\n",
      "F1 score of ML prediction for RCT: 0.96 (95% CI: 0.92 - 1.00)\n"
     ]
    }
   ],
   "source": [
    "# Calculate the accuracy of the ML prediction for RCT\n",
    "accuracy_rct_ml = (\n",
    "    np.sum(df_test[\"RCT\"] == df_test[\"RCT_PREDICTED_ML\"])\n",
    "    / df_test.shape[0]\n",
    ")\n",
    "\n",
    "# Estimate the 95 % confidence interval for the accuracy\n",
    "accuracy_rct_ml_std = np.sqrt(\n",
    "    accuracy_rct_ml * (1 - accuracy_rct_ml) / df_test.shape[0]\n",
    ")\n",
    "accuracy_rct_ml_CI = 1.96 * accuracy_rct_ml_std\n",
    "print(\n",
    "    f\"Accuracy of ML prediction for RCT: {accuracy_rct_ml:.2f} (95% CI: {accuracy_rct_ml - accuracy_rct_ml_CI:.2f} - {accuracy_rct_ml + accuracy_rct_ml_CI:.2f})\"\n",
    ")\n",
    "\n",
    "# Calculate the precision of the ML prediction for RCT\n",
    "precision_rct_ml = (\n",
    "    np.sum(\n",
    "        (df_test[\"RCT\"] == 1) & (df_test[\"RCT_PREDICTED_ML\"] == 1)\n",
    "    )\n",
    "    / np.sum(df_test[\"RCT_PREDICTED_ML\"] == 1)\n",
    ")\n",
    "\n",
    "# Estimate the 95 % confidence interval for the precision\n",
    "precision_rct_ml_std = np.sqrt(\n",
    "    precision_rct_ml * (1 - precision_rct_ml) / np.sum(df_test[\"RCT_PREDICTED_ML\"] == 1)\n",
    ")\n",
    "precision_rct_ml_CI = 1.96 * precision_rct_ml_std\n",
    "print(f\"Precision of ML prediction for RCT: {precision_rct_ml:.2f} (95% CI: {precision_rct_ml - precision_rct_ml_CI:.2f} - {precision_rct_ml + precision_rct_ml_CI:.2f})\")\n",
    "\n",
    "# Calculate the recall of the ML prediction for RCT\n",
    "recall_rct_ml = (\n",
    "    np.sum(\n",
    "        (df_test[\"RCT\"] == 1) & (df_test[\"RCT_PREDICTED_ML\"] == 1)\n",
    "    )\n",
    "    / np.sum(df_test[\"RCT\"] == 1)\n",
    ")\n",
    "\n",
    "# Estimate the 95 % confidence interval for the recall\n",
    "recall_rct_ml_std = np.sqrt(\n",
    "    recall_rct_ml * (1 - recall_rct_ml) / np.sum(df_test[\"RCT\"] == 1)\n",
    ")\n",
    "recall_rct_ml_CI = 1.96 * recall_rct_ml_std\n",
    "print(\n",
    "    f\"Recall of ML prediction for RCT: {recall_rct_ml:.2f} (95% CI: {recall_rct_ml - recall_rct_ml_CI:.2f} - {recall_rct_ml + recall_rct_ml_CI:.2f})\"\n",
    ")\n",
    "\n",
    "# Calculate the F1 score of the ML prediction for RCT\n",
    "f1_rct_ml = 2 * precision_rct_ml * recall_rct_ml / (precision_rct_ml + recall_rct_ml)\n",
    "\n",
    "# Estimate the 95 % confidence interval for the F1 score\n",
    "f1_rct_ml_std = np.sqrt(\n",
    "    f1_rct_ml * (1 - f1_rct_ml) / df_test.shape[0]\n",
    ")\n",
    "f1_rct_ml_CI = 1.96 * f1_rct_ml_std\n",
    "print(f\"F1 score of ML prediction for RCT: {f1_rct_ml:.2f} (95% CI: {f1_rct_ml - f1_rct_ml_CI:.2f} - {f1_rct_ml + f1_rct_ml_CI:.2f})\")\n",
    "\n"
   ]
  },
  {
   "cell_type": "markdown",
   "metadata": {},
   "source": [
    "# Detect tumor entity"
   ]
  },
  {
   "cell_type": "code",
   "execution_count": 104,
   "metadata": {},
   "outputs": [],
   "source": [
    "def assign_tumor_type(row):\n",
    "    tumor_type_array = []\n",
    "    title = row[\"title\"].lower()\n",
    "    # Gynecological\n",
    "    if re.search(r\"\\bbreast\", title):\n",
    "        tumor_type_array.append(\"Breast\")\n",
    "    if re.search(r\"dcis\", title) or re.search(r\"ductal carcinoma in situ\", title):\n",
    "        if not \"Breast\" in tumor_type_array:\n",
    "            tumor_type_array.append(\"Breast\")\n",
    "    if re.search(r\"mammogr\", title):\n",
    "        if not \"Breast\" in tumor_type_array:\n",
    "            tumor_type_array.append(\"Breast\")\n",
    "    if re.search(r\"ovarian\", title) or re.search(r\" ovar\", title):\n",
    "        if not re.search(r\"ovar.*suppre\", title):\n",
    "            tumor_type_array.append(\"Ovary\")\n",
    "    if re.search(r\"cervic\", title) or re.search(r\"cervix\", title):\n",
    "        tumor_type_array.append(\"Cervix\")\n",
    "    if re.search(r\"endometr\", title) or re.search(r\" uter\", title):\n",
    "        tumor_type_array.append(\"Endometrial\")\n",
    "    if re.search(r\"vulv\", title):\n",
    "        tumor_type_array.append(\"Vulva\")\n",
    "\n",
    "    # Lung\n",
    "    if re.search(r\"non[- ]small[- ]cell[- ]lung\", title) or re.search(r\" nsclc\", title):\n",
    "        tumor_type_array.append(\"NSCLC\")\n",
    "    if re.search(r\"small[- ]cell[- ]lung\", title) or re.search(r\" sclc\", title):\n",
    "        if not \"NSCLC\" in tumor_type_array:\n",
    "            tumor_type_array.append(\"SCLC\")\n",
    "    if re.search(r\"\\blung\", title):\n",
    "        if not \"NSCLC\" in tumor_type_array and not \"SCLC\" in tumor_type_array:\n",
    "            tumor_type_array.append(\"Lung\")\n",
    "    if re.search(r\"\\bthym\", title):\n",
    "        tumor_type_array.append(\"Thymoma\")\n",
    "\n",
    "    # Urothelial\n",
    "    if (\n",
    "        re.search(r\"\\bbladder\", title)\n",
    "        or re.search(r\"urothelial\", title)\n",
    "        or re.search(r\"urethr\", title)\n",
    "    ):\n",
    "        tumor_type_array.append(\"Urothelia\")\n",
    "    if re.search(r\"renal\", title) or re.search(r\"kidney\", title) or re.search(r\"\\brcc\", title):\n",
    "        tumor_type_array.append(\"Renal\")\n",
    "    if re.search(r\"prostat\", title):\n",
    "        tumor_type_array.append(\"Prostate\")\n",
    "    if re.search(r\"\\bgerm\", title) and not re.search(r\"german\", title) and not re.search(r\"germ ?line\", title):\n",
    "        tumor_type_array.append(\"Germ cell\")\n",
    "    if re.search(r\"seminoma\", title) and not re.search(r\"non[- ]?seminoma\", title):\n",
    "        tumor_type_array.append(\"Seminoma\")\n",
    "\n",
    "    # GI\n",
    "    if re.search(r\"esophag\", title):\n",
    "        tumor_type_array.append(\"Esophageal\")\n",
    "    if re.search(r\"gastric\", title) or re.search(r\"stomach\", title):\n",
    "        if not \"Esophageal\" in tumor_type_array:\n",
    "            tumor_type_array.append(\"Gastric\")\n",
    "    if re.search(r\"hepatocellular\", title) or re.search(r\"hcc\", title):\n",
    "        tumor_type_array.append(\"Hepatocellular\")\n",
    "    if re.search(r\"pancreatic\", title) or re.search(r\" pancreas\", title):\n",
    "        tumor_type_array.append(\"Pancreas\")\n",
    "    if re.search(r\"cholangio\", title) or re.search(r\"bile duct\", title) or re.search(r\"biliary\", title): \n",
    "        tumor_type_array.append(\"Cholangiocarcinoma\")\n",
    "    if re.search(r\"rectal\", title) or re.search(r\" crc\", title) or re.search(r\"\\bcolo\", title):\n",
    "        if not re.search(r\"colony\", title):\n",
    "            tumor_type_array.append(\"Colorectal\")\n",
    "    if re.search(r\"\\banal\\b\", title):\n",
    "        tumor_type_array.append(\"Anal\")\n",
    "    if re.search(\"gastro[- ]?intestinal stro\", title):\n",
    "        tumor_type_array.append(\"GIST\")\n",
    "\n",
    "    # Skin and soft tissue\n",
    "    if re.search(r\"melanoma\", title):\n",
    "        tumor_type_array.append(\"Melanoma\")\n",
    "    if re.search(r\"sarcoma\", title):\n",
    "        tumor_type_array.append(\"Sarcoma\")\n",
    "    if re.search(r\"mesothelioma\", title):\n",
    "        tumor_type_array.append(\"Mesothelioma\")\n",
    "    if re.search(r\"basal\", title):\n",
    "        tumor_type_array.append(\"Basal cell\")\n",
    "    if re.search(r\"merkel\", title):\n",
    "        tumor_type_array.append(\"Merkel cell\")\n",
    "\n",
    "    # Neuro\n",
    "    if re.search(r\"glioblastoma\", title):\n",
    "        tumor_type_array.append(\"High-grade glioma\")\n",
    "    if re.search(r\"anaplastic glioma\", title) or re.search(r\"anaplastic astrocytoma\", title):\n",
    "        tumor_type_array.append(\"High-grade glioma\")\n",
    "    if re.search(r\"diffuse\", title) and re.search(r\"glioma\", title) and (re.search(r\"pontine\", title) or re.search(r\"midline\", title)):\n",
    "        tumor_type_array.append(\"High-grade glioma\")\n",
    "    if re.search(r\"dipg\", title):\n",
    "        tumor_type_array.append(\"High-grade glioma\")\n",
    "    if re.search(r\"high[- ]grade[- ]glioma\", title):\n",
    "        tumor_type_array.append(\"High-grade glioma\")\n",
    "    if re.search(r\"oligodendroglioma\", title):\n",
    "        tumor_type_array.append(\"Low-grade glioma\")\n",
    "    if re.search(r\"diffuse astrocytoma\", title) or re.search(r\"diffuse glioma\", title):\n",
    "        if not \"High-grade glioma\" in tumor_type_array:\n",
    "            tumor_type_array.append(\"Low-grade glioma\")\n",
    "    if re.search(r\"low[- ]grade[- ]glioma\", title):\n",
    "        tumor_type_array.append(\"Low-grade glioma\")\n",
    "    if re.search(r\"glioma\", title) or re.search(r\"astrocytoma\", title) or re.search(r\"ependym\", title):\n",
    "        if not \"High-grade glioma\" in tumor_type_array and not \"Low-grade glioma\" in tumor_type_array:\n",
    "            tumor_type_array.append(\"Glioma\")\n",
    "    if re.search(r\"meningioma\", title) or re.search(r\"meningeoma\", title):\n",
    "        tumor_type_array.append(\"Meningioma\")\n",
    "    if re.search(r\"medulloblastoma\", title):\n",
    "        tumor_type_array.append(\"Medulloblastoma\")\n",
    "    if re.search(r\"pituitar\", title):\n",
    "        tumor_type_array.append(\"Pituitary\")\n",
    "    if re.search(r\"schwannoma\", title):\n",
    "        tumor_type_array.append(\"Schwannoma\")\n",
    "    if re.search(r\"neuroblastoma\", title):\n",
    "        tumor_type_array.append(\"Neuroblastoma\")\n",
    "\n",
    "    # Head and neck\n",
    "    if (\n",
    "        re.search(r\"\\boral.*cavity\", title)\n",
    "        or re.search(r\"oral canc\", title)\n",
    "        or re.search(r\" tongue\", title)\n",
    "        or re.search(r\" palat\", title or re.search(r\" mouth\", title))\n",
    "    ):\n",
    "        tumor_type_array.append(\"Head & neck\")\n",
    "    if re.search(r\"laryn\", title) and not \"Head & neck\" in tumor_type_array:\n",
    "        tumor_type_array.append(\"Head & neck\")\n",
    "    if re.search(r\"oropha\", title) and not \"Head & neck\" in tumor_type_array:\n",
    "        tumor_type_array.append(\"Head & neck\")\n",
    "    if re.search(r\"nasophary\", title) and not \"Head & neck\" in tumor_type_array:\n",
    "        tumor_type_array.append(\"Head & neck\")\n",
    "\n",
    "    if re.search(r\"salivary\", title) and not \"Head & neck\" in tumor_type_array:\n",
    "        tumor_type_array.append(\"Head & neck\")\n",
    "    if re.search(r\"thyro\", title) and not \"Head & neck\" in tumor_type_array:\n",
    "        tumor_type_array.append(\"Thyroid\")\n",
    "    if re.search(r\"head.*neck\", title) and not \"Head & neck\" in tumor_type_array:\n",
    "        tumor_type_array.append(\"Head & neck\")\n",
    "\n",
    "    # Hematological\n",
    "    if re.search(r\"hodgk\", title) and not re.search(r\"non[- ]hodgk\", title):\n",
    "        tumor_type_array.append(\"Hodgkin lymphoma\")\n",
    "    if re.search(r\"myeloma\", title):\n",
    "        tumor_type_array.append(\"Myeloma\")\n",
    "    if re.search(r\"chronic lymphocytic leuka?emia\", title) or re.search(r\"cll\", title):\n",
    "        tumor_type_array.append(\"CLL\")\n",
    "    if re.search(r\"lymphoma\", title):\n",
    "        if not \"Hodgkin lymphoma\" in tumor_type_array and not \"Myeloma\" in tumor_type_array and not \"CLL\" in tumor_type_array:\n",
    "            tumor_type_array.append(\"Other non-Hodgkin lymphoma\")\n",
    "    if re.search(r\"acute lympho.*leuka?emia\", title):\n",
    "        tumor_type_array.append(\"ALL\")\n",
    "    if re.search(r\"acute mye.*leuka?emia\", title) or re.search(r\"\\baml\", title):\n",
    "        tumor_type_array.append(\"AML\")\n",
    "    if re.search(r\"chronic mye.* leuka?emia\", title) or re.search(r\"\\bcml\", title):\n",
    "        tumor_type_array.append(\"CML\")\n",
    "    if re.search(r\"leuka?emia\", title) and not re.search(r\"leuka?emia group\", title):\n",
    "        if not \"ALL\" in tumor_type_array and not \"AML\" in tumor_type_array and not \"CML\" in tumor_type_array and not \"CLL\" in tumor_type_array:\n",
    "            tumor_type_array.append(\"Other leukemia\")\n",
    "    if re.search(r\"myelodysplastic\", title) or re.search(r\"\\bmds\", title):\n",
    "        tumor_type_array.append(\"MDS\")\n",
    "\n",
    "    # Metastases\n",
    "    if re.search(r\"bone metast\", title):\n",
    "        tumor_type_array.append(\"Bone metastases\")\n",
    "    if re.search(r\"brain metast\", title):\n",
    "        tumor_type_array.append(\"Brain metastases\")\n",
    "    if re.search(r\"metast\", title) or re.search(r\"effusion\", title):\n",
    "        tumor_type_array.append(\"General metastases\")\n",
    "\n",
    "    return tumor_type_array"
   ]
  },
  {
   "cell_type": "code",
   "execution_count": 105,
   "metadata": {},
   "outputs": [],
   "source": [
    "def assign_family(row):\n",
    "    tumor_entities = row[\"tumor_type\"]\n",
    "    for tumor_entity in tumor_entities:\n",
    "        if tumor_entity in [\"Breast\", \"Ovary\", \"Cervix\", \"Endometrial\", \"Vulva\"]:\n",
    "            return \"Gynecological\"\n",
    "        if tumor_entity in [\"NSCLC\", \"SCLC\", \"Lung\", \"Thymoma\"]:\n",
    "            return \"Lung/Thoracic\"\n",
    "        if tumor_entity in [\"Urothelia\", \"Renal\", \"Prostate\", \"Germ cell\", \"Seminoma\"]:\n",
    "            return \"Urogenital\"\n",
    "        if tumor_entity in [\"Esophageal\", \"Gastric\", \"Hepatocellular\", \"Pancreas\", \"Cholangiocarcinoma\", \"Colorectal\", \"Anal\", \"GIST\"]:\n",
    "            return \"Gastrointestinal\"\n",
    "        if tumor_entity in [\"Melanoma\", \"Sarcoma\", \"Mesothelioma\", \"Basal cell\", \"Merkel cell\"]:\n",
    "            return \"Skin/Soft tissue\"\n",
    "        if tumor_entity in [\"High-grade glioma\", \"Low-grade glioma\", \"Glioma\", \"Meningioma\", \"Medulloblastoma\", \"Pituitary\", \"Schwannoma\", \"Neuroblastoma\"]:\n",
    "            return \"Neuro\"\n",
    "        if tumor_entity in [\"Head & neck\", \"Thyroid\"]:\n",
    "            return \"Head & neck\"\n",
    "        if tumor_entity in [\"Hodgkin lymphoma\", \"Myeloma\", \"CLL\", \"Other non-Hodgkin lymphoma\", \"ALL\", \"AML\", \"CML\", \"Other leukemia\", \"MDS\"]:\n",
    "            return \"Hematological\"\n",
    "        if tumor_entity in [\"Bone metastases\", \"Brain metastases\", \"Other metastases\"]:\n",
    "            return \"Metastases\"\n",
    "        \n",
    "    \n"
   ]
  },
  {
   "cell_type": "code",
   "execution_count": 106,
   "metadata": {},
   "outputs": [
    {
     "data": {
      "text/plain": [
       "tumor_type\n",
       "[Breast]                          3\n",
       "[Endometrial]                     2\n",
       "[Myeloma]                         1\n",
       "[MDS]                             1\n",
       "[Cervix, General metastases]      1\n",
       "[AML]                             1\n",
       "[Gastric]                         1\n",
       "[Melanoma, General metastases]    1\n",
       "[Ovary]                           1\n",
       "[Esophageal]                      1\n",
       "[Prostate, General metastases]    1\n",
       "Name: count, dtype: int64"
      ]
     },
     "execution_count": 106,
     "metadata": {},
     "output_type": "execute_result"
    }
   ],
   "source": [
    "# Assign tumor type to the test set and show the distribution\n",
    "df_test_onc_rcts = df_test[(df_test[\"ONCOLOGY\"] == 1) & (df_test[\"RCT\"] == 1)].copy()\n",
    "\n",
    "df_test_onc_rcts[\"tumor_type\"] = df_test_onc_rcts.apply(assign_tumor_type, axis=1)\n",
    "\n",
    "df_test_onc_rcts[\"tumor_type\"].value_counts()"
   ]
  },
  {
   "cell_type": "code",
   "execution_count": 107,
   "metadata": {},
   "outputs": [
    {
     "data": {
      "text/plain": [
       "family\n",
       "Gynecological       7\n",
       "Hematological       3\n",
       "Gastrointestinal    2\n",
       "Skin/Soft tissue    1\n",
       "Urogenital          1\n",
       "Name: count, dtype: int64"
      ]
     },
     "execution_count": 107,
     "metadata": {},
     "output_type": "execute_result"
    }
   ],
   "source": [
    "# Assign family to the test set and show the distribution\n",
    "df_test_onc_rcts[\"family\"] = df_test_onc_rcts.apply(assign_family, axis=1)\n",
    "\n",
    "df_test_onc_rcts[\"family\"].value_counts()"
   ]
  },
  {
   "cell_type": "code",
   "execution_count": 108,
   "metadata": {},
   "outputs": [
    {
     "data": {
      "text/plain": [
       "tumor_type\n",
       "[NSCLC]                             7\n",
       "[Breast]                            7\n",
       "[]                                  5\n",
       "[Prostate]                          5\n",
       "[Other non-Hodgkin lymphoma]        4\n",
       "[Ovary]                             4\n",
       "[Colorectal]                        3\n",
       "[Melanoma]                          3\n",
       "[Myeloma]                           3\n",
       "[Hodgkin lymphoma]                  2\n",
       "[Colorectal, General metastases]    2\n",
       "[Gastric]                           2\n",
       "[Esophageal]                        2\n",
       "[Head & neck]                       2\n",
       "[Hepatocellular]                    2\n",
       "[ALL]                               2\n",
       "[Prostate, General metastases]      2\n",
       "[Renal]                             2\n",
       "[General metastases]                2\n",
       "[Pancreas]                          1\n",
       "[CLL]                               1\n",
       "[Urothelia]                         1\n",
       "[Endometrial, Sarcoma]              1\n",
       "[CML]                               1\n",
       "[Cervix]                            1\n",
       "[Melanoma, General metastases]      1\n",
       "[Sarcoma]                           1\n",
       "[AML]                               1\n",
       "[Renal, General metastases]         1\n",
       "[SCLC]                              1\n",
       "[Vulva]                             1\n",
       "[Lung]                              1\n",
       "[Endometrial]                       1\n",
       "[Breast, General metastases]        1\n",
       "[Mesothelioma]                      1\n",
       "[Pancreas, General metastases]      1\n",
       "Name: count, dtype: int64"
      ]
     },
     "execution_count": 108,
     "metadata": {},
     "output_type": "execute_result"
    }
   ],
   "source": [
    "# Assign tumor type to the training set and show the distribution\n",
    "\n",
    "df_train_onc_rcts = df_train[(df_train[\"ONCOLOGY\"] == 1) & (df_train[\"RCT\"] == 1)].copy()\n",
    "\n",
    "df_train_onc_rcts[\"tumor_type\"] = df_train_onc_rcts.apply(assign_tumor_type, axis=1)\n",
    "\n",
    "df_train_onc_rcts[\"tumor_type\"].value_counts()\n"
   ]
  },
  {
   "cell_type": "code",
   "execution_count": 109,
   "metadata": {},
   "outputs": [
    {
     "data": {
      "text/plain": [
       "family\n",
       "Gynecological       16\n",
       "Hematological       14\n",
       "Gastrointestinal    13\n",
       "Urogenital          11\n",
       "Lung/Thoracic        9\n",
       "Skin/Soft tissue     6\n",
       "Head & neck          2\n",
       "Name: count, dtype: int64"
      ]
     },
     "execution_count": 109,
     "metadata": {},
     "output_type": "execute_result"
    }
   ],
   "source": [
    "# Assign family to the training set and show the distribution\n",
    "df_train_onc_rcts[\"family\"] = df_train_onc_rcts.apply(assign_family, axis=1)\n",
    "\n",
    "df_train_onc_rcts[\"family\"].value_counts()"
   ]
  },
  {
   "cell_type": "code",
   "execution_count": 110,
   "metadata": {},
   "outputs": [
    {
     "data": {
      "text/plain": [
       "219    Effect of Sustained Smoking Cessation Counseling and Provision of Medication vs Shorter-term Counseling and Medication Advice on Smoking Abstinence in Patients Recently Diagnosed With Cancer: A Randomized Clinical Trial.\n",
       "454                                                                                                Evaluation of geriatric assessment and management on the toxic effects of cancer treatment (GAP70+): a cluster-randomised study.\n",
       "489                                                                                                  Real time remote symptom monitoring during chemotherapy for cancer: European multicentre randomised controlled trial (eSMART).\n",
       "706                                                                                         Monthly High-Dose Vitamin D Supplementation and Cancer Risk: A Post Hoc Analysis of the Vitamin D Assessment Randomized Clinical Trial.\n",
       "782                                                             Antithymocyte Globulin for Matched Sibling Donor Transplantation in Patients With Hematologic Malignancies: A Multicenter, Open-Label, Randomized Controlled Study.\n",
       "Name: title, dtype: object"
      ]
     },
     "execution_count": 110,
     "metadata": {},
     "output_type": "execute_result"
    }
   ],
   "source": [
    "# Print the title of the publications that were classified as oncology RCTs but did not have a tumor type assigned\n",
    "df_train_onc_rcts[df_train_onc_rcts[\"tumor_type\"].apply(len) == 0][\"title\"]\n",
    "\n"
   ]
  },
  {
   "cell_type": "code",
   "execution_count": null,
   "metadata": {},
   "outputs": [],
   "source": []
  }
 ],
 "metadata": {
  "kernelspec": {
   "display_name": "journal_nlp",
   "language": "python",
   "name": "python3"
  },
  "language_info": {
   "codemirror_mode": {
    "name": "ipython",
    "version": 3
   },
   "file_extension": ".py",
   "mimetype": "text/x-python",
   "name": "python",
   "nbconvert_exporter": "python",
   "pygments_lexer": "ipython3",
   "version": "3.11.5"
  }
 },
 "nbformat": 4,
 "nbformat_minor": 2
}
